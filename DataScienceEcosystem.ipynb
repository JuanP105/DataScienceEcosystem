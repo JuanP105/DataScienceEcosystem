{
 "cells": [
  {
   "cell_type": "markdown",
   "id": "a473ad1c-c698-4928-a449-f442fb55e8e5",
   "metadata": {},
   "source": [
    "# Data Science Tools and Ecosystem"
   ]
  },
  {
   "cell_type": "markdown",
   "id": "ef722e31-7bd1-4b1c-9b03-191a315e6d40",
   "metadata": {},
   "source": [
    "In this notebook, Data Science Tools and Ecosystem are summarized."
   ]
  },
  {
   "cell_type": "markdown",
   "id": "3fba3dc5-0386-4b46-b93b-71387272ec09",
   "metadata": {},
   "source": [
    "***Objectives:***\n",
    "- Python\n",
    "- R\n",
    "- Panda\n",
    "- NumPy"
   ]
  },
  {
   "cell_type": "markdown",
   "id": "5ab3411b-f164-4c71-a97f-fee4483b5f8f",
   "metadata": {},
   "source": [
    "Some of the popular languages that Data Scientists use are:\n",
    "\n",
    "1. Python\n",
    "2. R\n",
    "3. SQL"
   ]
  },
  {
   "cell_type": "markdown",
   "id": "c89004c7-fa0a-49e7-99b3-55194d781bf1",
   "metadata": {},
   "source": [
    "Some of the commonly used libraries used by Data Scientists include:\n",
    "1. Panda\n",
    "2. NumPy\n",
    "3. TensorFlow"
   ]
  },
  {
   "cell_type": "markdown",
   "id": "b672ec7c-bda8-458c-b431-6f8c6fdc82b4",
   "metadata": {},
   "source": [
    "|Data Science Tools|\n",
    "|------------------|\n",
    "|Jupyter Notebook|\n",
    "|RStudio|\n",
    "|PyCharm|"
   ]
  },
  {
   "cell_type": "markdown",
   "id": "b88b4da4-27cf-4887-8e38-f87e1ba77788",
   "metadata": {},
   "source": [
    "### Below are a few examples of evaluating arithmetic expressions in Python"
   ]
  },
  {
   "cell_type": "code",
   "execution_count": 4,
   "id": "d7e4b7b0-4d34-4a9f-a11f-32d6e11b3ed6",
   "metadata": {},
   "outputs": [
    {
     "data": {
      "text/plain": [
       "17"
      ]
     },
     "execution_count": 4,
     "metadata": {},
     "output_type": "execute_result"
    }
   ],
   "source": [
    "(3*4)+5\n",
    "#This a simple arithmetic expression to mutiply then add integers"
   ]
  },
  {
   "cell_type": "code",
   "execution_count": 5,
   "id": "9c035dfd-5101-4636-89f4-9db56acdae40",
   "metadata": {},
   "outputs": [
    {
     "data": {
      "text/plain": [
       "3.3333333333333335"
      ]
     },
     "execution_count": 5,
     "metadata": {},
     "output_type": "execute_result"
    }
   ],
   "source": [
    "200/60\n",
    "#This will convert 200 minutes to hours by diving by 60"
   ]
  },
  {
   "cell_type": "markdown",
   "id": "88cad1a3-c4a3-4904-9208-83a38aad73c7",
   "metadata": {},
   "source": [
    "## Author\n",
    "Juan Jesús Pérez González"
   ]
  },
  {
   "cell_type": "code",
   "execution_count": null,
   "id": "d16727aa-8b83-4133-8860-cf838367f006",
   "metadata": {},
   "outputs": [],
   "source": []
  }
 ],
 "metadata": {
  "kernelspec": {
   "display_name": "Python 3 (ipykernel)",
   "language": "python",
   "name": "python3"
  },
  "language_info": {
   "codemirror_mode": {
    "name": "ipython",
    "version": 3
   },
   "file_extension": ".py",
   "mimetype": "text/x-python",
   "name": "python",
   "nbconvert_exporter": "python",
   "pygments_lexer": "ipython3",
   "version": "3.12.4"
  }
 },
 "nbformat": 4,
 "nbformat_minor": 5
}
